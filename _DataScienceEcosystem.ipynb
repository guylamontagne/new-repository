{
 "cells": [
  {
   "cell_type": "markdown",
   "id": "e8a91f90-dfcf-4888-bd38-6a5ba03c1bec",
   "metadata": {},
   "source": [
    "# Data Science Tools and Ecosystem"
   ]
  },
  {
   "cell_type": "markdown",
   "id": "c5a500c6-15e6-4c62-b840-06a30f66ad08",
   "metadata": {},
   "source": [
    "In this notebook, Data Science Tools and Ecosystem are summarized."
   ]
  },
  {
   "cell_type": "markdown",
   "id": "c30fffd5-5cec-4158-9be4-3aa70baad8bb",
   "metadata": {},
   "source": [
    "Some of the popular languages that Data Scientists use are:\r\n",
    "\r\n",
    "1.  Python\r\n",
    "2.  R\r\n",
    "3.  SQL\r\n",
    "4.  Julia"
   ]
  },
  {
   "cell_type": "markdown",
   "id": "684e5d43-c49f-4a67-9db4-45899929fc3f",
   "metadata": {},
   "source": [
    "# Data Science Librairies\n",
    "\n",
    "1.  **Python:**\r\n",
    "    1.  NumPy\r\n",
    "    2.  Pandas\r\n",
    "    3.  Matplotlib\r\n",
    "    4.  Seaborn\r\n",
    "    5.  Scikit-learn\r\n",
    "    6.  TensorFlow\r\n",
    "    7.  PyTorch\r\n",
    "2.  **R:**\r\n",
    "    1.  dplyr\r\n",
    "    2.  ggplot2\r\n",
    "    3.  caret\r\n",
    "    4.  tidyr\r\n",
    "3.  **SQL:**\r\n",
    "    *   No specific libraries, but various database connectors and tools exist."
   ]
  },
  {
   "cell_type": "markdown",
   "id": "af3dcf56-7134-4e87-801f-8da36d41126b",
   "metadata": {},
   "source": [
    "| Data Science Tools |\r\n",
    "| :----------------- |\r\n",
    "| Jupyter Notebooks  |\r\n",
    "| RStudio            |\r\n",
    "| VS Code            |"
   ]
  },
  {
   "cell_type": "markdown",
   "id": "7735cd8f-3834-4b47-8519-e84e40ade823",
   "metadata": {},
   "source": [
    "### Below are a few examples of evaluating arithmetic expressions in Python."
   ]
  },
  {
   "cell_type": "code",
   "execution_count": 2,
   "id": "58f85f79-2b1e-4a51-8aa5-e1dd297de049",
   "metadata": {},
   "outputs": [
    {
     "name": "stdout",
     "output_type": "stream",
     "text": [
      "17\n"
     ]
    }
   ],
   "source": [
    "# This a simple arithmetic expression to mutiply then add integers.\n",
    "result = (3 * 4) + 5\n",
    "print(result)"
   ]
  },
  {
   "cell_type": "code",
   "execution_count": 3,
   "id": "b1211b08-f79c-4620-82e1-07c046b2a187",
   "metadata": {},
   "outputs": [
    {
     "name": "stdout",
     "output_type": "stream",
     "text": [
      "3.3333333333333335\n"
     ]
    }
   ],
   "source": [
    "# This will convert 200 minutes to hours by diving by 60.\n",
    "minutes = 200\n",
    "hours = minutes / 60\n",
    "print(hours)"
   ]
  },
  {
   "cell_type": "markdown",
   "id": "e562e077-0675-4e13-872b-d11260579167",
   "metadata": {},
   "source": [
    "**Objectives:**\r\n",
    "\r\n",
    "*   List popular languages for Data Science.\r\n",
    "*   List commonly used libraries for Data Science.\r\n",
    "*   Present a table of Data Science tools.\r\n",
    "*   Provide examples of evaluating arithmetic expressions.\r\n",
    "*   Demonstrate converting units of time."
   ]
  },
  {
   "cell_type": "markdown",
   "id": "c870de8f-3c66-4cd3-bd26-5b3b53662579",
   "metadata": {},
   "source": [
    "## Author\r\n",
    "Guy Lamontagne"
   ]
  }
 ],
 "metadata": {
  "kernelspec": {
   "display_name": "anaconda-panel-2023.05-py310",
   "language": "python",
   "name": "conda-env-anaconda-panel-2023.05-py310-py"
  },
  "language_info": {
   "codemirror_mode": {
    "name": "ipython",
    "version": 3
   },
   "file_extension": ".py",
   "mimetype": "text/x-python",
   "name": "python",
   "nbconvert_exporter": "python",
   "pygments_lexer": "ipython3",
   "version": "3.11.5"
  }
 },
 "nbformat": 4,
 "nbformat_minor": 5
}
